{
 "cells": [
  {
   "cell_type": "code",
   "execution_count": 1,
   "metadata": {
    "collapsed": false
   },
   "outputs": [],
   "source": [
    "%matplotlib inline\n",
    "import numpy as np\n",
    "import bayesian_pdes as bpdes\n",
    "from scipy import stats\n",
    "import matplotlib.pyplot as plt\n",
    "import mcmc\n",
    "import sympy as sp\n",
    "%load_ext mcmc\n",
    "%mcmc notebook"
   ]
  },
  {
   "cell_type": "markdown",
   "metadata": {},
   "source": [
    "# Sheet Parameters"
   ]
  },
  {
   "cell_type": "code",
   "execution_count": 2,
   "metadata": {
    "collapsed": true
   },
   "outputs": [],
   "source": [
    "# important helpers!\n",
    "def cart2pol(points):\n",
    "    x = points[:,0]\n",
    "    y = points[:,1]\n",
    "    rho = np.sqrt(x**2 + y**2)\n",
    "    phi = np.arctan2(y, x)\n",
    "    return np.column_stack([rho, phi])\n",
    "\n",
    "def pol2cart(points):\n",
    "    rho = points[:,0]\n",
    "    phi = points[:,1]\n",
    "    x = rho * np.cos(phi)\n",
    "    y = rho * np.sin(phi)\n",
    "    return np.column_stack([x, y])"
   ]
  },
  {
   "cell_type": "code",
   "execution_count": 3,
   "metadata": {
    "collapsed": false
   },
   "outputs": [],
   "source": [
    "stim_current = 1 # current which we are stimulating with\n",
    "# code for setting up the stim pattern\n",
    "stim_pattern = np.zeros((7,8))\n",
    "for i in xrange(7):\n",
    "    stim_pattern[i,0] = 1\n",
    "    stim_pattern[i, i+1] = -1\n",
    "stim_pattern = stim_pattern*stim_current"
   ]
  },
  {
   "cell_type": "code",
   "execution_count": 4,
   "metadata": {
    "collapsed": true
   },
   "outputs": [],
   "source": [
    "likelihood_variance = 1e-4 # variance for the observation model\n",
    "run_time = 1 # time at which to run the MCMC"
   ]
  },
  {
   "cell_type": "markdown",
   "metadata": {},
   "source": [
    "# Load Data"
   ]
  },
  {
   "cell_type": "code",
   "execution_count": 5,
   "metadata": {
    "collapsed": false
   },
   "outputs": [],
   "source": [
    "data_file = '../data/ST1trial3.DAT'\n",
    "raw_data = np.loadtxt(data_file)"
   ]
  },
  {
   "cell_type": "markdown",
   "metadata": {},
   "source": [
    "The data file format is as follows:\n",
    "* Each row corresponds to a time\n",
    "* The first element of the row gives the time index of the measurement\n",
    "* The remaining columns give the measurements for each time\n",
    "* These are divided into seven blocks.\n",
    "    - Call the block $i$\n",
    "    - Within the block the measurements correspond to electrodes $j=1,\\dots,8$, $j\\neq i$\n",
    "    - Pair $(i,j)$ represents passing a current between electrode $i$ and electrode $j$ and measuring the voltage.\n",
    "    - The voltage is measured between the _reference_ electrode at $1$ and the electrode located at $1+i$\n",
    "\n",
    "_Is there not one too many electrodes here? This implies at some point we measure the voltage between 1 and 2 based on a current driven between 1 and 2._\n",
    "\n",
    "_Is there a linear independence problem here? I still think there might be._"
   ]
  },
  {
   "cell_type": "code",
   "execution_count": 6,
   "metadata": {
    "collapsed": true
   },
   "outputs": [],
   "source": [
    "def data_to_dict(data):\n",
    "    res = {}\n",
    "    stims = {}\n",
    "    for r in data:\n",
    "        time = r[0]\n",
    "        other_data = r[1:]\n",
    "        res[time] = other_data.reshape((7,7))\n",
    "        stims[time] = stim_pattern\n",
    "    return res, stims"
   ]
  },
  {
   "cell_type": "code",
   "execution_count": 7,
   "metadata": {
    "collapsed": false
   },
   "outputs": [],
   "source": [
    "data_dict, stim_dict = data_to_dict(raw_data)\n",
    "# quick check to make sure the data dict matches expectation\n",
    "assert np.all(data_dict[1][0] == raw_data[0][1:8])"
   ]
  },
  {
   "cell_type": "markdown",
   "metadata": {},
   "source": [
    "# Set Up"
   ]
  },
  {
   "cell_type": "code",
   "execution_count": 8,
   "metadata": {
    "collapsed": false
   },
   "outputs": [],
   "source": [
    "from bayesian_pdes.problems import eit"
   ]
  },
  {
   "cell_type": "code",
   "execution_count": 9,
   "metadata": {
    "collapsed": true
   },
   "outputs": [],
   "source": [
    "s_x, s_xbar, s_y, s_ybar = sp.symbols('x,xbar,y,ybar')\n",
    "s_length_scale = sp.symbols('sigma')\n",
    "kernel = sp.exp(-((s_x - s_xbar)**2 + (s_y-s_ybar)**2) / (2.*s_length_scale**2))\n",
    "symbols = [[s_x, s_y], [s_xbar, s_ybar], [s_length_scale]]"
   ]
  },
  {
   "cell_type": "code",
   "execution_count": 10,
   "metadata": {
    "collapsed": false
   },
   "outputs": [],
   "source": [
    "op_system_factory = eit.EITFactory(kernel, symbols[0], symbols[1], symbols[2])"
   ]
  },
  {
   "cell_type": "markdown",
   "metadata": {},
   "source": [
    "## Define the collocation grid"
   ]
  },
  {
   "cell_type": "code",
   "execution_count": 11,
   "metadata": {
    "collapsed": false
   },
   "outputs": [],
   "source": [
    "r = 1.0 # todo: just assume a unit radius, is this okay?\n",
    "n_in_shell = 5"
   ]
  },
  {
   "cell_type": "code",
   "execution_count": 12,
   "metadata": {
    "collapsed": true
   },
   "outputs": [],
   "source": [
    "def construct_shell(radii):\n",
    "    r_spacing = radii[1] - radii[0]\n",
    "    coords = [np.array([[0.,0.]])]\n",
    "    for r in radii:\n",
    "        # at each 'shell' we want a roughly equal number of theta around the diameter.\n",
    "        # each theta should be about r_spacing apart\n",
    "        n_theta = np.round(2*np.pi*r / r_spacing)\n",
    "        thetas = np.linspace(0, 2*np.pi, n_theta+1)[:-1]\n",
    "        x = np.cos(thetas)\n",
    "        y = np.sin(thetas)\n",
    "        coords.append(r*np.c_[x,y])\n",
    "    coords = np.concatenate(coords)\n",
    "    return coords\n"
   ]
  },
  {
   "cell_type": "code",
   "execution_count": 13,
   "metadata": {
    "collapsed": false
   },
   "outputs": [],
   "source": [
    "shell_radii = np.linspace(0, r, n_in_shell)[1:-1]\n",
    "design_int = construct_shell(shell_radii)"
   ]
  },
  {
   "cell_type": "code",
   "execution_count": 14,
   "metadata": {
    "collapsed": false
   },
   "outputs": [
    {
     "name": "stdout",
     "output_type": "stream",
     "text": [
      "8 sensors\n",
      "24 non-sensors\n"
     ]
    }
   ],
   "source": [
    "n_bdy = 32\n",
    "bdy_theta = np.linspace(0, 2*np.pi, n_bdy+1)\n",
    "design_bdy = pol2cart(np.c_[np.ones(n_bdy), bdy_theta[:-1]]) \n",
    "\n",
    "# define the mapping from boundary collocation point to sensor\n",
    "bdy_sensor_skip = 4\n",
    "sensor_ixs = np.arange(0, len(design_bdy), bdy_sensor_skip)\n",
    "is_sensor_flags = np.in1d(np.arange(len(design_bdy)), sensor_ixs)\n",
    "\n",
    "sensor_xy = design_bdy[is_sensor_flags]\n",
    "non_sensor_xy = design_bdy[~is_sensor_flags]\n",
    "print('{} sensors'.format(len(sensor_xy)))\n",
    "print('{} non-sensors'.format(len(non_sensor_xy)))"
   ]
  },
  {
   "cell_type": "code",
   "execution_count": 15,
   "metadata": {
    "collapsed": true
   },
   "outputs": [],
   "source": [
    "# for now we impose the BC only at the sensor locations and impose the interior condition at non-sensor bdy points\n",
    "modified_design_int = np.row_stack([design_int, non_sensor_xy])\n",
    "modified_design_bdy = sensor_xy"
   ]
  },
  {
   "cell_type": "code",
   "execution_count": 16,
   "metadata": {
    "collapsed": true
   },
   "outputs": [],
   "source": [
    "full_design = np.row_stack([modified_design_int, modified_design_bdy])"
   ]
  },
  {
   "cell_type": "code",
   "execution_count": 17,
   "metadata": {
    "collapsed": false
   },
   "outputs": [
    {
     "data": {
      "text/plain": [
       "<matplotlib.legend.Legend at 0x10c400ad0>"
      ]
     },
     "execution_count": 17,
     "metadata": {},
     "output_type": "execute_result"
    },
    {
     "data": {
      "image/png": "[encoded data removed]",
      "text/plain": [
       "<matplotlib.figure.Figure at 0x10c23fa10>"
      ]
     },
     "metadata": {},
     "output_type": "display_data"
    }
   ],
   "source": [
    "# plot design points\n",
    "plt.figure(figsize=(4,4))\n",
    "plt.scatter(design_int[:,0], design_int[:,1], marker='x', color='black', s=10)\n",
    "plt.scatter(design_bdy[:,0], design_bdy[:,1], marker='x', color='black', s=10, label='Design point')\n",
    "plt.scatter(sensor_xy[:,0], sensor_xy[:,1], marker='x', color='green', label='Sensor')\n",
    "plt.xlim(-r*1.05,r*1.05);plt.ylim(-r*1.05,r*1.05)\n",
    "plt.legend(loc=2, bbox_to_anchor=(1.05,1))"
   ]
  },
  {
   "cell_type": "code",
   "execution_count": 18,
   "metadata": {
    "collapsed": true
   },
   "outputs": [],
   "source": [
    "def theta_to_kappa(theta, sz_int, sz_bdy):\n",
    "    kappa_int = theta[:sz_int]\n",
    "    kappa_bdy = theta[sz_int:sz_int+sz_bdy]\n",
    "    grad_kappa_x = theta[sz_int+sz_bdy:2*sz_int+sz_bdy]\n",
    "    grad_kappa_y = theta[2*sz_int+sz_bdy:]\n",
    "    return kappa_int, kappa_bdy, grad_kappa_x, grad_kappa_y"
   ]
  },
  {
   "cell_type": "markdown",
   "metadata": {},
   "source": [
    "## Define the Potential"
   ]
  },
  {
   "cell_type": "code",
   "execution_count": 19,
   "metadata": {
    "collapsed": false
   },
   "outputs": [],
   "source": [
    "\n",
    "# define the observations skeleton\n",
    "obs = [\n",
    "    (modified_design_int, None),\n",
    "    (modified_design_bdy, None)\n",
    "]\n",
    "# todo: choose this in a more principled way\n",
    "length_scale = 0.4\n",
    "fun_args = np.array([length_scale])"
   ]
  },
  {
   "cell_type": "code",
   "execution_count": 20,
   "metadata": {
    "collapsed": true
   },
   "outputs": [],
   "source": [
    "def phi(theta, debug=False):\n",
    "    # first solve forward\n",
    "    kappa_int, kappa_bdy, grad_kappa_x, grad_kappa_y = theta_to_kappa(theta, \n",
    "                                                                      modified_design_int.shape[0], \n",
    "                                                                      modified_design_bdy.shape[0])\n",
    "    op_system = op_system_factory.get_operator_system(\n",
    "        kappa_int,\n",
    "        kappa_bdy,\n",
    "        grad_kappa_x,\n",
    "        grad_kappa_y,\n",
    "        use_cache=True\n",
    "    )\n",
    "    posterior = bpdes.collocate(\n",
    "        op_system.operators,\n",
    "        op_system.operators_bar,\n",
    "        obs,\n",
    "        op_system,\n",
    "        fun_args,\n",
    "        inverter='np'\n",
    "    )\n",
    "    # now determine voltage at the sensor locations\n",
    "    mu_mult, Sigma = posterior.no_obs_posterior(sensor_xy[1:])\n",
    "    # now need to iterate the stim patterns and compute the residual\n",
    "    data = data_dict[run_time]\n",
    "    stim = stim_dict[run_time]\n",
    "    rhs_int = np.zeros((len(modified_design_int), 1))\n",
    "        \n",
    "    likelihood_cov = Sigma + likelihood_variance*np.eye(Sigma.shape[0])\n",
    "    likelihood_dist = stats.multivariate_normal(np.zeros(Sigma.shape[0]), likelihood_cov)\n",
    "    \n",
    "    likelihood = 0\n",
    "    for voltage, current in zip(data, stim):\n",
    "        rhs_bdy = current[:,None]\n",
    "        rhs = np.row_stack([rhs_int, rhs_bdy])\n",
    "        \n",
    "        model_voltage = np.dot(mu_mult, rhs)\n",
    "        \n",
    "        this_likelihood = likelihood_dist.logpdf(voltage.ravel() - model_voltage.ravel())\n",
    "        if debug:\n",
    "            print(\"Model voltages: {}\".format(model_voltage.ravel()))\n",
    "            print(\"True voltages: {}\".format(voltage.ravel()))\n",
    "            print(\"Likelihood: {}\".format(this_likelihood))\n",
    "        likelihood += this_likelihood\n",
    "    return -likelihood"
   ]
  },
  {
   "cell_type": "markdown",
   "metadata": {},
   "source": [
    "## Set up Proposal Matrix"
   ]
  },
  {
   "cell_type": "code",
   "execution_count": 21,
   "metadata": {
    "collapsed": false
   },
   "outputs": [],
   "source": [
    "proposal_kernel = kernel\n",
    "def diff_x(k):\n",
    "    return k.diff(s_x)\n",
    "def diff_y(k):\n",
    "    return k.diff(s_y)\n",
    "def diff_x_bar(k):\n",
    "    return k.diff(s_xbar)\n",
    "def diff_y_bar(k):\n",
    "    return k.diff(s_ybar)\n",
    "\n",
    "proposal_op_system = bpdes.operator_compilation.sympy_gram.compile_sympy(\n",
    "    [diff_x, diff_y], \n",
    "    [diff_x_bar, diff_y_bar], \n",
    "    proposal_kernel,\n",
    "    symbols\n",
    ")"
   ]
  },
  {
   "cell_type": "code",
   "execution_count": 22,
   "metadata": {
    "collapsed": false
   },
   "outputs": [],
   "source": [
    "proposal_cov = bpdes.collocation.compute_operator_matrix(\n",
    "    [(), diff_x, diff_y],\n",
    "    [(), diff_x_bar, diff_y_bar],\n",
    "    [full_design, modified_design_int, modified_design_int],\n",
    "    [full_design, modified_design_int, modified_design_int],\n",
    "    proposal_op_system,\n",
    "    fun_args\n",
    ")"
   ]
  },
  {
   "cell_type": "code",
   "execution_count": 28,
   "metadata": {
    "collapsed": false
   },
   "outputs": [],
   "source": [
    "mcmc.pcn.sqrtm_mode = mcmc.pcn.SQRTM_SVD\n",
    "proposal = mcmc.pcn.proposal(0.5, proposal_cov)\n",
    "kappa_0 = np.random.multivariate_normal(np.zeros(proposal_cov.shape[0]), proposal_cov)"
   ]
  },
  {
   "cell_type": "code",
   "execution_count": null,
   "metadata": {
    "collapsed": false
   },
   "outputs": [
    {
     "name": "stdout",
     "output_type": "stream",
     "text": [
      "None\n",
      "notebook\n"
     ]
    }
   ],
   "source": [
    "proposals, acceptances = mcmc.pCN(100000, proposal, phi, kappa_0)"
   ]
  }
 ],
 "metadata": {
  "kernelspec": {
   "display_name": "Python 2",
   "language": "python",
   "name": "python2"
  },
  "language_info": {
   "codemirror_mode": {
    "name": "ipython",
    "version": 2
   },
   "file_extension": ".py",
   "mimetype": "text/x-python",
   "name": "python",
   "nbconvert_exporter": "python",
   "pygments_lexer": "ipython2",
   "version": "2.7.11"
  },
  "widgets": {
   "state": {
    "e5e2275e84e244dbb376d13dc56fed02": {
     "views": [
      {
       "cell_index": 30
      }
     ]
    }
   },
   "version": "1.2.0"
  }
 },
 "nbformat": 4,
 "nbformat_minor": 1
}
