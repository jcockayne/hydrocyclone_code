{
 "cells": [
  {
   "cell_type": "code",
   "execution_count": 28,
   "metadata": {
    "collapsed": true
   },
   "outputs": [],
   "source": [
    "import numpy as np\n",
    "import pandas as pd"
   ]
  },
  {
   "cell_type": "code",
   "execution_count": 29,
   "metadata": {
    "collapsed": false
   },
   "outputs": [],
   "source": [
    "xs = np.linspace(-1, 1)\n",
    "max_degree = 10\n",
    "degrees = []\n",
    "all_x = []\n",
    "vals = []\n",
    "for x in xs:\n",
    "    for degree in xrange(max_degree+1):\n",
    "        deg_array = np.zeros(degree+1)\n",
    "        deg_array[-1] = 1\n",
    "        val = np.polynomial.chebyshev.chebval(x, deg_array)\n",
    "        all_x.append(x)\n",
    "        vals.append(val)\n",
    "        degrees.append(degree)"
   ]
  },
  {
   "cell_type": "code",
   "execution_count": 36,
   "metadata": {
    "collapsed": true
   },
   "outputs": [],
   "source": [
    "res = pd.DataFrame({\n",
    "        'degree': degrees,\n",
    "        'x': all_x,\n",
    "        'val': vals\n",
    "    })\n",
    "res = res[['degree', 'x', 'val']]"
   ]
  },
  {
   "cell_type": "code",
   "execution_count": 37,
   "metadata": {
    "collapsed": false
   },
   "outputs": [],
   "source": [
    "res.to_csv('chebvals.txt', sep=' ', header=False, index=False)"
   ]
  },
  {
   "cell_type": "code",
   "execution_count": 24,
   "metadata": {
    "collapsed": false
   },
   "outputs": [],
   "source": [
    "res = np.vstack(to_concat)"
   ]
  },
  {
   "cell_type": "code",
   "execution_count": 25,
   "metadata": {
    "collapsed": true
   },
   "outputs": [],
   "source": [
    "np.savetxt('chebvals.txt', res)"
   ]
  },
  {
   "cell_type": "code",
   "execution_count": 27,
   "metadata": {
    "collapsed": false
   },
   "outputs": [
    {
     "name": "stdout",
     "output_type": "stream",
     "text": [
      "Hydrocyclone_Static_EIT.ipynb    \u001b[34mdummy_data\u001b[m\u001b[m/\r\n",
      "Sim_Data_Gen.ipynb               recovered_rhos.csv\r\n",
      "Untitled.ipynb                   recovered_rhos_no_impedance.csv\r\n",
      "chebvals.txt                     \u001b[34mresults\u001b[m\u001b[m/\r\n"
     ]
    }
   ],
   "source": [
    "ls"
   ]
  }
 ],
 "metadata": {
  "kernelspec": {
   "display_name": "Python 2",
   "language": "python",
   "name": "python2"
  },
  "language_info": {
   "codemirror_mode": {
    "name": "ipython",
    "version": 2
   },
   "file_extension": ".py",
   "mimetype": "text/x-python",
   "name": "python",
   "nbconvert_exporter": "python",
   "pygments_lexer": "ipython2",
   "version": "2.7.11"
  }
 },
 "nbformat": 4,
 "nbformat_minor": 1
}
